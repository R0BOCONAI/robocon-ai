{
 "cells": [
  {
   "cell_type": "code",
   "execution_count": null,
   "metadata": {},
   "outputs": [],
   "source": [
    "from roboflow import Roboflow\n",
    "rf = Roboflow(api_key=\"jlrReCjJBK3M7fMZA26g\")\n",
    "project = rf.workspace(\"my-space-azqox\").project(\"detection-of-pcos-classification\")\n",
    "version = project.version(3)\n",
    "dataset = version.download(\"folder\")"
   ]
  },
  {
   "cell_type": "code",
   "execution_count": null,
   "metadata": {},
   "outputs": [],
   "source": [
    "from roboflow import Roboflow\n",
    "rf = Roboflow(api_key=\"jlrReCjJBK3M7fMZA26g\")\n",
    "project = rf.workspace(\"brandon-pufpx\").project(\"red-q6fah\")\n",
    "version = project.version(4)\n",
    "dataset = version.download(\"yolov8\")"
   ]
  },
  {
   "cell_type": "code",
   "execution_count": null,
   "metadata": {},
   "outputs": [],
   "source": [
    "!yolo detect train data=data.yaml model=yolov8n.pt  epochs=200 imgsz=640 patience=80 batch=32 cache=True device=0 plots=True resume=True"
   ]
  },
  {
   "cell_type": "code",
   "execution_count": null,
   "metadata": {},
   "outputs": [],
   "source": [
    "from roboflow import Roboflow\n",
    "rf = Roboflow(api_key=\"jlrReCjJBK3M7fMZA26g\")\n",
    "project = rf.workspace(\"arun-ranjan-sahu-by08k\").project(\"chall\")\n",
    "version = project.version(1)\n",
    "dataset = version.download(\"folder\")"
   ]
  },
  {
   "cell_type": "code",
   "execution_count": null,
   "metadata": {},
   "outputs": [],
   "source": [
    "!pip install roboflow\n",
    "\n",
    "from roboflow import Roboflow\n",
    "rf = Roboflow(api_key=\"jlrReCjJBK3M7fMZA26g\")\n",
    "project = rf.workspace(\"my-space-azqox\").project(\"detection-of-pcos-classification\")\n",
    "version = project.version(3)\n",
    "dataset = version.download(\"folder\")\n",
    "\n"
   ]
  },
  {
   "cell_type": "code",
   "execution_count": null,
   "metadata": {},
   "outputs": [],
   "source": [
    "from roboflow import Roboflow\n",
    "rf = Roboflow(api_key=\"jlrReCjJBK3M7fMZA26g\")\n",
    "project = rf.workspace(\"vanessas\").project(\"pcos-image-classification\")\n",
    "version = project.version(1)\n",
    "dataset = version.download(\"folder\")\n"
   ]
  },
  {
   "cell_type": "code",
   "execution_count": null,
   "metadata": {},
   "outputs": [],
   "source": [
    "from roboflow import Roboflow\n",
    "rf = Roboflow(api_key=\"jlrReCjJBK3M7fMZA26g\")\n",
    "project = rf.workspace(\"brandon-pufpx\").project(\"blue-jxkgq\")\n",
    "version = project.version(5)\n",
    "dataset = version.download(\"yolov8\")\n"
   ]
  },
  {
   "cell_type": "code",
   "execution_count": null,
   "metadata": {},
   "outputs": [],
   "source": [
    "from roboflow import Roboflow\n",
    "rf = Roboflow(api_key=\"jlrReCjJBK3M7fMZA26g\")\n",
    "project = rf.workspace(\"brandon-pufpx\").project(\"red-q6fah\")\n",
    "version = project.version(4)\n",
    "dataset = version.download(\"yolov8\")\n"
   ]
  },
  {
   "cell_type": "code",
   "execution_count": null,
   "metadata": {},
   "outputs": [],
   "source": [
    "\n",
    "from roboflow import Roboflow\n",
    "rf = Roboflow(api_key=\"jlrReCjJBK3M7fMZA26g\")\n",
    "project = rf.workspace(\"projectq\").project(\"project-qbotix\")\n",
    "version = project.version(1)\n",
    "dataset = version.download(\"yolov8\")\n"
   ]
  },
  {
   "cell_type": "code",
   "execution_count": null,
   "metadata": {},
   "outputs": [],
   "source": [
    "!pip install roboflow\n",
    "\n",
    "from roboflow import Roboflow\n",
    "rf = Roboflow(api_key=\"jlrReCjJBK3M7fMZA26g\")\n",
    "project = rf.workspace(\"projectq\").project(\"project-qbotix\")\n",
    "version = project.version(5)\n",
    "dataset = version.download(\"yolov8\")"
   ]
  },
  {
   "cell_type": "code",
   "execution_count": null,
   "metadata": {},
   "outputs": [],
   "source": []
  }
 ],
 "metadata": {
  "kernelspec": {
   "display_name": "gpu-torch",
   "language": "python",
   "name": "python3"
  },
  "language_info": {
   "codemirror_mode": {
    "name": "ipython",
    "version": 3
   },
   "file_extension": ".py",
   "mimetype": "text/x-python",
   "name": "python",
   "nbconvert_exporter": "python",
   "pygments_lexer": "ipython3",
   "version": "3.12.2"
  }
 },
 "nbformat": 4,
 "nbformat_minor": 2
}
